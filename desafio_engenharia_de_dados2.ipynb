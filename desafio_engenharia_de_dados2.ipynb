{
  "cells": [
    {
      "cell_type": "markdown",
      "metadata": {
        "id": "LVSy2BqsaSkj"
      },
      "source": [
        "# Setup Geral\n",
        "\n",
        "Se estiver executando este exercício no Google Colab, execute as próximas duas células. \n",
        "\n",
        "Caso esteja executando localmente, não é necessário executar mas certifique-se de que o **pyspark** está instalado e configurado em sua máquina."
      ]
    },
    {
      "cell_type": "code",
      "execution_count": null,
      "metadata": {
        "id": "NHPXuknHZ5Az",
        "colab": {
          "base_uri": "https://localhost:8080/"
        },
        "outputId": "a4c2dad0-49f7-4628-8881-c637a85d599f"
      },
      "outputs": [
        {
          "output_type": "stream",
          "name": "stdout",
          "text": [
            "Get:1 http://security.ubuntu.com/ubuntu bionic-security InRelease [88.7 kB]\n",
            "Get:2 https://cloud.r-project.org/bin/linux/ubuntu bionic-cran40/ InRelease [3,626 B]\n",
            "Get:3 http://ppa.launchpad.net/c2d4u.team/c2d4u4.0+/ubuntu bionic InRelease [15.9 kB]\n",
            "Ign:4 https://developer.download.nvidia.com/compute/machine-learning/repos/ubuntu1804/x86_64  InRelease\n",
            "Hit:5 https://developer.download.nvidia.com/compute/cuda/repos/ubuntu1804/x86_64  InRelease\n",
            "Hit:6 https://developer.download.nvidia.com/compute/machine-learning/repos/ubuntu1804/x86_64  Release\n",
            "Hit:7 http://ppa.launchpad.net/cran/libgit2/ubuntu bionic InRelease\n",
            "Hit:8 http://ppa.launchpad.net/deadsnakes/ppa/ubuntu bionic InRelease\n",
            "Hit:9 http://ppa.launchpad.net/graphics-drivers/ppa/ubuntu bionic InRelease\n",
            "Hit:10 http://archive.ubuntu.com/ubuntu bionic InRelease\n",
            "Get:11 http://ppa.launchpad.net/c2d4u.team/c2d4u4.0+/ubuntu bionic/main Sources [2,235 kB]\n",
            "Get:12 http://archive.ubuntu.com/ubuntu bionic-updates InRelease [88.7 kB]\n",
            "Get:14 http://archive.ubuntu.com/ubuntu bionic-backports InRelease [83.3 kB]\n",
            "Get:15 http://ppa.launchpad.net/c2d4u.team/c2d4u4.0+/ubuntu bionic/main amd64 Packages [1,143 kB]\n",
            "Fetched 3,659 kB in 3s (1,362 kB/s)\n",
            "Reading package lists...\n"
          ]
        }
      ],
      "source": [
        "%%bash\n",
        "\n",
        "# Instal Java\n",
        "apt-get update && apt-get install openjdk-8-jdk-headless -qq > /dev/null\n",
        "\n",
        "# Install PySpark\n",
        "pip install -q pyspark"
      ]
    },
    {
      "cell_type": "code",
      "execution_count": null,
      "metadata": {
        "id": "4dY12q0raXtc"
      },
      "outputs": [],
      "source": [
        "import os\n",
        "os.environ['JAVA_HOME'] = '/usr/lib/jvm/java-8-openjdk-amd64'\n",
        "\n",
        "from pyspark.sql import SparkSession\n",
        "\n",
        "spark = SparkSession.builder.master(\"local[*]\").getOrCreate()"
      ]
    },
    {
      "cell_type": "markdown",
      "metadata": {
        "id": "pZZMC5QPae-Z"
      },
      "source": [
        "# Teste\n",
        "\n",
        "O teste a ser realizado é composto de 3 partes:\n",
        "\n",
        "- um exercício de programação em Python\n",
        "- alguns exercícios de programação em SQL\n",
        "- alguns exercícios de programação com PySpark\n",
        "\n",
        "Você pode escolher qual das partes do exercício vai fazer primeiro. Todo o exercício deve ser completado no período de 48 horas."
      ]
    },
    {
      "cell_type": "markdown",
      "metadata": {
        "id": "YUB8S5fKciHv"
      },
      "source": [
        "# Python"
      ]
    },
    {
      "cell_type": "code",
      "execution_count": null,
      "metadata": {
        "id": "2F8f5Z1scgUP"
      },
      "outputs": [],
      "source": [
        "# SETUP\n",
        "nomes_alunos = [\n",
        "    ('Maria', 1),\n",
        "    ('João', 2),\n",
        "    ('Pedro', 3),\n",
        "    ('Gabriella', 4),\n",
        "    ('Giovana', 5),\n",
        "    ('Arthur', 6)\n",
        "]\n",
        "\n",
        "notas_alunos = {\n",
        "    1: 9.5,\n",
        "    2: 5.1,\n",
        "    3: 8.7,\n",
        "    4: 7.1,\n",
        "    5: 4.8,\n",
        "    6: 6.3\n",
        "}"
      ]
    },
    {
      "cell_type": "markdown",
      "metadata": {
        "id": "ApIQ4JqjcsnC"
      },
      "source": [
        "Implemente uma função que recebe uma lista de nomes de alunos, um dicionário de notas dos mesmo, sendo que essas estruturas se relacionam por um ID.\n",
        "\n",
        "A função deve retornar em ordem alfabética, o nome dos alunos que obtiveram notas maior ou igual de uma nota de corte informada."
      ]
    },
    {
      "cell_type": "code",
      "source": [
        "#chave de lista iniciam em 0\n",
        "nomes_alunos[0]"
      ],
      "metadata": {
        "colab": {
          "base_uri": "https://localhost:8080/"
        },
        "id": "88pCAPnDbjBc",
        "outputId": "1cf5a827-e2e4-4603-992e-a5803aea75c8"
      },
      "execution_count": null,
      "outputs": [
        {
          "output_type": "execute_result",
          "data": {
            "text/plain": [
              "('Maria', 1)"
            ]
          },
          "metadata": {},
          "execution_count": 387
        }
      ]
    },
    {
      "cell_type": "code",
      "source": [
        "#primeiro colchete index da lista, segundo colchete as posições dentro do index\n",
        "nomes_alunos[0][0]"
      ],
      "metadata": {
        "colab": {
          "base_uri": "https://localhost:8080/",
          "height": 36
        },
        "id": "yRYovjNdAdSM",
        "outputId": "6c23faee-8a75-4d34-9775-8632bbf11ec6"
      },
      "execution_count": null,
      "outputs": [
        {
          "output_type": "execute_result",
          "data": {
            "text/plain": [
              "'Maria'"
            ],
            "application/vnd.google.colaboratory.intrinsic+json": {
              "type": "string"
            }
          },
          "metadata": {},
          "execution_count": 61
        }
      ]
    },
    {
      "cell_type": "code",
      "source": [
        "#chave de discionario iniciam em 1 - variavel \n",
        "notas_alunos[1]"
      ],
      "metadata": {
        "colab": {
          "base_uri": "https://localhost:8080/"
        },
        "id": "2iBuXlo84Jdc",
        "outputId": "af60909d-ab8f-47f1-edcd-97f34592f292"
      },
      "execution_count": null,
      "outputs": [
        {
          "output_type": "execute_result",
          "data": {
            "text/plain": [
              "9.5"
            ]
          },
          "metadata": {},
          "execution_count": 384
        }
      ]
    },
    {
      "cell_type": "code",
      "execution_count": null,
      "metadata": {
        "id": "ISnDoCWucpHC",
        "colab": {
          "base_uri": "https://localhost:8080/"
        },
        "outputId": "238f5250-457f-4c9e-9dca-fb194b0cf1c3"
      },
      "outputs": [
        {
          "output_type": "stream",
          "name": "stdout",
          "text": [
            "['Arthur', 'Gabriella', 'Maria', 'Pedro']\n"
          ]
        }
      ],
      "source": [
        "nomes_ordenados = []\n",
        "def filtra_alunos_acima_corte(alunos, notas, nota_corte):\n",
        "  n = 0\n",
        "  j = 1\n",
        "  k = 0\n",
        "  \n",
        "  while k < 6:\n",
        "    if notas_alunos[j] > 6:\n",
        "      nomes_ordenados.append(nomes_alunos[n][0])\n",
        "    n = n + 1\n",
        "    j = j +1\n",
        "    k = k + 1\n",
        "  print(sorted(nomes_ordenados))   \n",
        "filtra_alunos_acima_corte(nomes_alunos, notas_alunos, 6)\n"
      ]
    },
    {
      "cell_type": "markdown",
      "metadata": {
        "id": "4iYs_aWqdXrh"
      },
      "source": [
        "# SQL"
      ]
    },
    {
      "cell_type": "markdown",
      "metadata": {
        "id": "mbIq-A9-gXdw"
      },
      "source": [
        "**Setup**\n"
      ]
    },
    {
      "cell_type": "code",
      "execution_count": null,
      "metadata": {
        "id": "DOG9FO83dlSe"
      },
      "outputs": [],
      "source": [
        "%%bash\n",
        "mkdir bases_teste\n",
        "curl https://raw.githubusercontent.com/A3Data/bases_testes/main/bases_teste/produtos.csv -o bases_teste/produtos.csv\n",
        "curl https://raw.githubusercontent.com/A3Data/bases_testes/main/bases_teste/vendas.csv -o bases_teste/vendas.csv\n",
        "curl https://raw.githubusercontent.com/A3Data/bases_testes/main/bases_teste/usuarios.csv -o bases_teste/usuarios.csv"
      ]
    },
    {
      "cell_type": "code",
      "execution_count": null,
      "metadata": {
        "id": "kHkTwPZmfV2t"
      },
      "outputs": [],
      "source": [
        "# Setup Spark Session\n",
        "from pyspark.sql import SparkSession\n",
        "spark = SparkSession.builder.appName(\"AtividadeSQL\").getOrCreate()"
      ]
    },
    {
      "cell_type": "code",
      "execution_count": null,
      "metadata": {
        "id": "3kb1a6CwgSVd"
      },
      "outputs": [],
      "source": [
        "def cria_tabela(path, nome_tabela):\n",
        "    df = spark.read.csv(path, inferSchema=True, header=True)\n",
        "    df.createOrReplaceTempView(nome_tabela)\n",
        "    return df\n",
        "\n",
        "usuarios = cria_tabela(\"bases_teste/usuarios.csv\", \"usuarios\")\n",
        "produtos = cria_tabela(\"bases_teste/produtos.csv\", \"produtos\")\n",
        "vendas = cria_tabela(\"bases_teste/vendas.csv\", \"vendas\")"
      ]
    },
    {
      "cell_type": "markdown",
      "metadata": {
        "id": "6N5gLPYEg27q"
      },
      "source": [
        "**Função para execução de queries**"
      ]
    },
    {
      "cell_type": "code",
      "execution_count": null,
      "metadata": {
        "id": "HtpEu2utg5Pb"
      },
      "outputs": [],
      "source": [
        "def q(query, n=50):\n",
        "    return spark.sql(query).show(n=n, truncate=False)"
      ]
    },
    {
      "cell_type": "markdown",
      "metadata": {
        "id": "s84UzyTqg9lH"
      },
      "source": [
        "Para executar alguma consulta, basta colocar seu código sql dentro da função q como no exemplo abaixo:\n",
        "\n",
        "```python\n",
        "q(\"\"\"\n",
        "    SELECT *\n",
        "    FROM usuarios\n",
        "\"\"\")\n",
        "```\n",
        "\n",
        "e o resultado será exibido na tela.\n",
        "\n",
        "---\n",
        "\n",
        "Nesta parte da atividade, você vai trabalhar com três tabelas:\n",
        "\n",
        "- produtos\n",
        "- usuarios\n",
        "- vendas\n",
        "\n",
        "Use-as para responder às perguntas a seguir."
      ]
    },
    {
      "cell_type": "markdown",
      "metadata": {
        "id": "Kxzvs2rVoxGk"
      },
      "source": [
        "1) Qual foi a quantidade de vendas nos estados de Minas Gerais e São Paulo para cada ano e mês?"
      ]
    },
    {
      "cell_type": "code",
      "source": [
        "q(\"\"\"\n",
        "    DESCRIBE usuarios\n",
        "\"\"\")"
      ],
      "metadata": {
        "colab": {
          "base_uri": "https://localhost:8080/"
        },
        "id": "EGU7Kv1xBNQk",
        "outputId": "cd73fc0e-ab0a-4655-c8a1-5da768605618"
      },
      "execution_count": null,
      "outputs": [
        {
          "output_type": "stream",
          "name": "stdout",
          "text": [
            "+-------------+---------+-------+\n",
            "|col_name     |data_type|comment|\n",
            "+-------------+---------+-------+\n",
            "|cod_usuario  |int      |null   |\n",
            "|data_cadastro|timestamp|null   |\n",
            "|faixa_etaria |string   |null   |\n",
            "|cidade       |string   |null   |\n",
            "|estado       |string   |null   |\n",
            "+-------------+---------+-------+\n",
            "\n"
          ]
        }
      ]
    },
    {
      "cell_type": "code",
      "source": [
        "#aumentar o número de linhas para exibição completa da querie\n",
        "q(\"\"\"\n",
        "    SELECT count(v.cod_usuario) as vendas, YEAR(v.data_compra) ano, MONTH(v.data_compra) mes, u.estado\n",
        "    FROM vendas v\n",
        "    INNER JOIN usuarios u\n",
        "    ON v.cod_usuario = u.cod_usuario\n",
        "    WHERE estado = 'São Paulo' or estado ='Minas Gerais'\n",
        "    GROUP BY YEAR(v.data_compra), MONTH(v.data_compra), u.estado\n",
        "    ORDER BY 2,3,4\n",
        "\"\"\")"
      ],
      "metadata": {
        "colab": {
          "base_uri": "https://localhost:8080/"
        },
        "id": "BGgcesJhuIiI",
        "outputId": "9ce12802-fb38-4518-e4ac-41ec24b376c4"
      },
      "execution_count": null,
      "outputs": [
        {
          "output_type": "stream",
          "name": "stdout",
          "text": [
            "+------+----+---+------------+\n",
            "|vendas|ano |mes|estado      |\n",
            "+------+----+---+------------+\n",
            "|1     |2018|6  |Minas Gerais|\n",
            "|1     |2018|7  |São Paulo   |\n",
            "|1     |2018|8  |Minas Gerais|\n",
            "|1     |2018|10 |Minas Gerais|\n",
            "|1     |2018|10 |São Paulo   |\n",
            "|1     |2018|11 |Minas Gerais|\n",
            "|2     |2018|12 |Minas Gerais|\n",
            "|2     |2019|1  |Minas Gerais|\n",
            "|1     |2019|2  |Minas Gerais|\n",
            "|2     |2019|4  |Minas Gerais|\n",
            "|1     |2019|5  |Minas Gerais|\n",
            "|1     |2019|6  |Minas Gerais|\n",
            "|1     |2019|6  |São Paulo   |\n",
            "|2     |2019|7  |Minas Gerais|\n",
            "|1     |2019|8  |Minas Gerais|\n",
            "|1     |2019|8  |São Paulo   |\n",
            "|2     |2019|9  |Minas Gerais|\n",
            "|1     |2019|10 |Minas Gerais|\n",
            "|1     |2019|11 |Minas Gerais|\n",
            "|3     |2019|12 |Minas Gerais|\n",
            "|1     |2020|1  |Minas Gerais|\n",
            "|1     |2020|1  |São Paulo   |\n",
            "|1     |2020|2  |Minas Gerais|\n",
            "|1     |2020|3  |Minas Gerais|\n",
            "|1     |2020|3  |São Paulo   |\n",
            "|1     |2020|4  |Minas Gerais|\n",
            "|1     |2020|4  |São Paulo   |\n",
            "|3     |2020|5  |Minas Gerais|\n",
            "|3     |2020|6  |Minas Gerais|\n",
            "|1     |2020|6  |São Paulo   |\n",
            "+------+----+---+------------+\n",
            "only showing top 30 rows\n",
            "\n"
          ]
        }
      ]
    },
    {
      "cell_type": "markdown",
      "metadata": {
        "id": "xzD4NiqHplgI"
      },
      "source": [
        "2) Quais são os usuários por Estado que mais compraram em todo o período analisado e qual foi o número de compras realizadas, a quantidade total de itens comprados e valor total pago por usuário?"
      ]
    },
    {
      "cell_type": "code",
      "source": [
        "#quantidade de compras por usuário, quantidade de itens comprados, valor total\n",
        "\n",
        "q(\"\"\"\n",
        "    SELECT u.estado, v.cod_usuario, COUNT(v.cod_usuario) qtd_compras, SUM(v.quantidade) qtd_itens, ROUND(SUM(v.valor),2) valor_total\n",
        "    FROM vendas v\n",
        "    INNER JOIN usuarios u\n",
        "    ON v.cod_usuario = u.cod_usuario\n",
        "    GROUP BY  u.estado, v.cod_usuario\n",
        "    ORDER BY 1,2\n",
        "\"\"\")"
      ],
      "metadata": {
        "colab": {
          "base_uri": "https://localhost:8080/"
        },
        "id": "W4b2gz9ASbE6",
        "outputId": "e9f106aa-38e2-4a92-9bac-86b9f4665afa"
      },
      "execution_count": null,
      "outputs": [
        {
          "output_type": "stream",
          "name": "stdout",
          "text": [
            "+------------------+-----------+-----------+---------+-----------+\n",
            "|estado            |cod_usuario|qtd_compras|qtd_itens|valor_total|\n",
            "+------------------+-----------+-----------+---------+-----------+\n",
            "|Amapá             |2186       |7          |61       |51359.34   |\n",
            "|Bahia             |176        |5          |43       |8433.46    |\n",
            "|Bahia             |466        |4          |33       |13613.89   |\n",
            "|Bahia             |2155       |4          |39       |13820.4    |\n",
            "|Bahia             |2856       |7          |71       |71986.05   |\n",
            "|Bahia             |2981       |9          |70       |126282.4   |\n",
            "|Bahia             |3400       |5          |35       |7052.29    |\n",
            "|Ceará             |1787       |8          |79       |121494.67  |\n",
            "|Goiás             |700        |9          |74       |142389.09  |\n",
            "|Goiás             |1878       |4          |54       |96862.1    |\n",
            "|Goiás             |2850       |5          |64       |107155.5   |\n",
            "|Goiás             |3358       |7          |58       |136881.19  |\n",
            "|Maranhão          |191        |7          |69       |26216.35   |\n",
            "|Maranhão          |441        |8          |95       |14945.13   |\n",
            "|Maranhão          |2811       |13         |117      |184101.89  |\n",
            "|Mato Grosso       |1192       |7          |76       |16001.5    |\n",
            "|Mato Grosso       |2340       |9          |112      |165197.3   |\n",
            "|Mato Grosso do Sul|679        |6          |102      |152271.96  |\n",
            "|Mato Grosso do Sul|2492       |3          |20       |17998.0    |\n",
            "|Minas Gerais      |69         |5          |53       |104538.31  |\n",
            "|Minas Gerais      |124        |2          |27       |4454.83    |\n",
            "|Minas Gerais      |479        |4          |51       |5820.95    |\n",
            "|Minas Gerais      |796        |7          |56       |28161.0    |\n",
            "|Minas Gerais      |1947       |6          |70       |62296.63   |\n",
            "|Minas Gerais      |2009       |6          |53       |24173.87   |\n",
            "|Minas Gerais      |2216       |7          |75       |85841.41   |\n",
            "|Minas Gerais      |2438       |8          |91       |95031.67   |\n",
            "|Minas Gerais      |2903       |4          |25       |8965.17    |\n",
            "|Minas Gerais      |2908       |3          |31       |6708.82    |\n",
            "|Minas Gerais      |2910       |4          |40       |58935.54   |\n",
            "+------------------+-----------+-----------+---------+-----------+\n",
            "only showing top 30 rows\n",
            "\n"
          ]
        }
      ]
    },
    {
      "cell_type": "markdown",
      "metadata": {
        "id": "Rx53Cl5Xp6TV"
      },
      "source": [
        "3) Quais são os usuários que não fizeram nenhuma compra?"
      ]
    },
    {
      "cell_type": "code",
      "execution_count": null,
      "metadata": {
        "id": "POtsi6dPq9-K",
        "colab": {
          "base_uri": "https://localhost:8080/"
        },
        "outputId": "5c63105c-9a46-4960-90d7-bf97060eceae"
      },
      "outputs": [
        {
          "output_type": "stream",
          "name": "stdout",
          "text": [
            "+-----------+\n",
            "|cod_usuario|\n",
            "+-----------+\n",
            "|5098       |\n",
            "|5229       |\n",
            "|5482       |\n",
            "|5504       |\n",
            "|5614       |\n",
            "|5923       |\n",
            "|6985       |\n",
            "|7901       |\n",
            "|9980       |\n",
            "|10080      |\n",
            "|10152      |\n",
            "|10170      |\n",
            "|10929      |\n",
            "|11002      |\n",
            "|11546      |\n",
            "|12298      |\n",
            "|12354      |\n",
            "|13117      |\n",
            "|13476      |\n",
            "|14486      |\n",
            "|15198      |\n",
            "|15313      |\n",
            "|15784      |\n",
            "|16570      |\n",
            "|17530      |\n",
            "|17779      |\n",
            "|18028      |\n",
            "|18034      |\n",
            "|18166      |\n",
            "|18366      |\n",
            "+-----------+\n",
            "only showing top 30 rows\n",
            "\n"
          ]
        }
      ],
      "source": [
        "# Utilizei o inner join para cruzar as tabelas e condição WHRE ISNULL para localizar os itens com valores nulos na tabela de vendas.\n",
        "q(\"\"\"\n",
        "    SELECT u.cod_usuario\n",
        "    FROM usuarios u\n",
        "    LEFT JOIN vendas v\n",
        "    ON v.cod_usuario = u.cod_usuario\n",
        "    WHERE ISNULL(v.cod_usuario)\n",
        "     \n",
        "\"\"\")"
      ]
    },
    {
      "cell_type": "markdown",
      "metadata": {
        "id": "JMfPmlvJq-vq"
      },
      "source": [
        "4) Qual é o ticket médio (média de valor gasto) e o número total de usuários que fizeram pelo menos uma compra por faixa etária?"
      ]
    },
    {
      "cell_type": "code",
      "source": [
        "q(\"\"\"\n",
        "    SELECT *\n",
        "    FROM vendas\n",
        "     \n",
        "\"\"\")"
      ],
      "metadata": {
        "colab": {
          "base_uri": "https://localhost:8080/"
        },
        "id": "KCQgHOeZDkWI",
        "outputId": "3cfa9aaf-1840-4152-f17f-2ae60cf1d34c"
      },
      "execution_count": null,
      "outputs": [
        {
          "output_type": "stream",
          "name": "stdout",
          "text": [
            "+-----------+-----------+-------------------+----------+--------+\n",
            "|cod_usuario|cod_produto|data_compra        |quantidade|valor   |\n",
            "+-----------+-----------+-------------------+----------+--------+\n",
            "|927        |10         |2020-10-19 00:00:00|4         |2799.6  |\n",
            "|1544       |10         |2021-03-28 00:00:00|2         |1399.8  |\n",
            "|2833       |2          |2020-09-13 00:00:00|20        |26915.6 |\n",
            "|2253       |14         |2021-06-21 00:00:00|1         |138.99  |\n",
            "|1724       |10         |2021-07-10 00:00:00|6         |4199.4  |\n",
            "|1534       |5          |2019-10-17 00:00:00|19        |8303.0  |\n",
            "|1977       |14         |2020-05-08 00:00:00|2         |277.98  |\n",
            "|1916       |3          |2020-12-01 00:00:00|14        |28693.0 |\n",
            "|2446       |1          |2021-06-02 00:00:00|17        |78045.3 |\n",
            "|2041       |4          |2021-07-25 00:00:00|19        |1119.1  |\n",
            "|1731       |11         |2021-05-27 00:00:00|5         |249.5   |\n",
            "|3076       |12         |2021-04-29 00:00:00|11        |852.5   |\n",
            "|1514       |4          |2020-01-28 00:00:00|19        |1119.1  |\n",
            "|656        |4          |2021-05-13 00:00:00|9         |530.1   |\n",
            "|954        |16         |2020-01-26 00:00:00|4         |20.0    |\n",
            "|2283       |6          |2021-04-30 00:00:00|14        |12598.6 |\n",
            "|2173       |18         |2021-01-28 00:00:00|6         |47.4    |\n",
            "|992        |7          |2020-04-17 00:00:00|13        |16906.37|\n",
            "|1954       |20         |2021-06-20 00:00:00|19        |2468.1  |\n",
            "|1833       |13         |2020-12-05 00:00:00|10        |99.0    |\n",
            "|538        |8          |2021-06-20 00:00:00|14        |3073.98 |\n",
            "|2455       |7          |2020-05-31 00:00:00|12        |15605.88|\n",
            "|948        |20         |2020-07-03 00:00:00|15        |1948.5  |\n",
            "|1034       |3          |2021-05-30 00:00:00|16        |32792.0 |\n",
            "|1108       |20         |2020-08-24 00:00:00|15        |1948.5  |\n",
            "|1492       |20         |2021-05-08 00:00:00|15        |1948.5  |\n",
            "|2550       |17         |2021-01-16 00:00:00|6         |3504.6  |\n",
            "|2312       |6          |2021-07-12 00:00:00|5         |4499.5  |\n",
            "|1174       |20         |2021-02-28 00:00:00|16        |2078.4  |\n",
            "|174        |19         |2021-04-04 00:00:00|2         |4999.8  |\n",
            "+-----------+-----------+-------------------+----------+--------+\n",
            "only showing top 30 rows\n",
            "\n"
          ]
        }
      ]
    },
    {
      "cell_type": "code",
      "execution_count": null,
      "metadata": {
        "id": "2wmU9pLbrMg3",
        "colab": {
          "base_uri": "https://localhost:8080/"
        },
        "outputId": "ff4c857c-9409-4f15-981f-aacc7450a5f5"
      },
      "outputs": [
        {
          "output_type": "stream",
          "name": "stdout",
          "text": [
            "+---------+--------+------------------+\n",
            "|tct_medio|usuarios|faixa_etaria      |\n",
            "+---------+--------+------------------+\n",
            "|8890.13  |43      |Entre 10 a 15 anos|\n",
            "|12725.95 |50      |Entre 16 a 21 anos|\n",
            "|12203.02 |64      |Entre 22 a 27 anos|\n",
            "|8233.04  |56      |Entre 28 a 36 anos|\n",
            "|16727.19 |42      |Entre 37 a 49 anos|\n",
            "|10849.48 |80      |Entre 50 a 61 anos|\n",
            "|10012.63 |39      |Entre 62 a 70 anos|\n",
            "|11303.1  |29      |Mais de 70 anos   |\n",
            "+---------+--------+------------------+\n",
            "\n"
          ]
        }
      ],
      "source": [
        "# Utilizei o inner join para cruzar as tabelas e localizar os itens com valores nulos na tabela de vendas.\n",
        "\n",
        "q(\"\"\"\n",
        "    SELECT ROUND(AVG(v.valor),2) tct_medio, COUNT(v.cod_usuario) usuarios, u.faixa_etaria\n",
        "    FROM vendas v\n",
        "    INNER JOIN usuarios u\n",
        "    ON v.cod_usuario = u.cod_usuario\n",
        "    GROUP BY u.faixa_etaria\n",
        "    HAVING COUNT(v.cod_usuario) >= 1\n",
        "    ORDER BY 3\n",
        "     \n",
        "\"\"\")"
      ]
    },
    {
      "cell_type": "code",
      "execution_count": null,
      "metadata": {
        "id": "3zzx4TnTJ0ck"
      },
      "outputs": [],
      "source": [
        "spark.stop()"
      ]
    },
    {
      "cell_type": "markdown",
      "metadata": {
        "id": "YsxnKyHTr9ZQ"
      },
      "source": [
        "# PySpark"
      ]
    },
    {
      "cell_type": "markdown",
      "metadata": {
        "id": "IHTFrsFRKENk"
      },
      "source": [
        "**setup**:"
      ]
    },
    {
      "cell_type": "code",
      "execution_count": null,
      "metadata": {
        "id": "ExrbmwGPJ74k"
      },
      "outputs": [],
      "source": [
        "%%bash\n",
        "mkdir bases_teste\n",
        "curl https://raw.githubusercontent.com/A3Data/bases_testes/main/bases_teste/produtos.csv -o bases_teste/produtos.csv\n",
        "curl https://raw.githubusercontent.com/A3Data/bases_testes/main/bases_teste/vendas.csv -o bases_teste/vendas.csv\n",
        "curl https://raw.githubusercontent.com/A3Data/bases_testes/main/bases_teste/usuarios.csv -o bases_teste/usuarios.csv"
      ]
    },
    {
      "cell_type": "code",
      "execution_count": null,
      "metadata": {
        "id": "1iMZB37mJ74k"
      },
      "outputs": [],
      "source": [
        "# Setup Spark Session\n",
        "from pyspark.sql import SparkSession\n",
        "spark = SparkSession.builder.appName(\"AtividadeSQL\").getOrCreate()"
      ]
    },
    {
      "cell_type": "code",
      "execution_count": null,
      "metadata": {
        "id": "5wjdDd3tJ74l"
      },
      "outputs": [],
      "source": [
        "def cria_tabela(path, nome_tabela):\n",
        "    df = spark.read.csv(path, inferSchema=True, header=True)\n",
        "    df.createOrReplaceTempView(nome_tabela)\n",
        "    return df\n",
        "\n",
        "usuarios = cria_tabela(\"bases_teste/usuarios.csv\", \"usuarios\")\n",
        "produtos = cria_tabela(\"bases_teste/produtos.csv\", \"produtos\")\n",
        "vendas = cria_tabela(\"bases_teste/vendas.csv\", \"vendas\")"
      ]
    },
    {
      "cell_type": "code",
      "source": [
        "#Visualizar tabelas dentro spark\n",
        "print(spark.catalog.listTables())"
      ],
      "metadata": {
        "colab": {
          "base_uri": "https://localhost:8080/"
        },
        "id": "msAm3umruzhi",
        "outputId": "1b7137e9-d1ed-4826-9627-6e542845823a"
      },
      "execution_count": null,
      "outputs": [
        {
          "output_type": "stream",
          "name": "stdout",
          "text": [
            "[Table(name='produtos', database=None, description=None, tableType='TEMPORARY', isTemporary=True), Table(name='usuarios', database=None, description=None, tableType='TEMPORARY', isTemporary=True), Table(name='vendas', database=None, description=None, tableType='TEMPORARY', isTemporary=True)]\n"
          ]
        }
      ]
    },
    {
      "cell_type": "markdown",
      "metadata": {
        "id": "DHCtQfrvKpWz"
      },
      "source": [
        "Responda às perguntas a seguir utilizando **Spark DATAFRAMES**.\n",
        "\n",
        "1) Qual foi o total de compras realizadas, o total de itens comprados e a receita total obtida em todo o período analisado?"
      ]
    },
    {
      "cell_type": "code",
      "source": [
        "vendas.printSchema()"
      ],
      "metadata": {
        "id": "2sz9nSuIT1QN"
      },
      "execution_count": null,
      "outputs": []
    },
    {
      "cell_type": "code",
      "source": [
        "#total de compras\n",
        "qtd_vendas = spark.sql(\"\"\"SELECT COUNT(*) qtd_vendas \n",
        "                          FROM vendas\"\"\")\n",
        "qtd_vendas.show()"
      ],
      "metadata": {
        "colab": {
          "base_uri": "https://localhost:8080/"
        },
        "id": "3PaCuzkqnmLD",
        "outputId": "17f9b67d-afe6-4820-f540-9d80f404e44c"
      },
      "execution_count": null,
      "outputs": [
        {
          "output_type": "stream",
          "name": "stdout",
          "text": [
            "+----------+\n",
            "|qtd_vendas|\n",
            "+----------+\n",
            "|     20000|\n",
            "+----------+\n",
            "\n"
          ]
        }
      ]
    },
    {
      "cell_type": "code",
      "source": [
        "#total de itens comprados\n",
        "qtd_itens = spark.sql(\"\"\"SELECT SUM(quantidade) qtd_itens \n",
        "                         FROM vendas\"\"\")\n",
        "qtd_itens.show()"
      ],
      "metadata": {
        "colab": {
          "base_uri": "https://localhost:8080/"
        },
        "id": "jbpIwjG1kZGI",
        "outputId": "8e4ec4fa-8036-4063-cca4-0ed5d9e43531"
      },
      "execution_count": null,
      "outputs": [
        {
          "output_type": "stream",
          "name": "stdout",
          "text": [
            "+---------+\n",
            "|qtd_itens|\n",
            "+---------+\n",
            "|   209149|\n",
            "+---------+\n",
            "\n"
          ]
        }
      ]
    },
    {
      "cell_type": "code",
      "source": [
        "#receita total - \n",
        "receita = spark.sql(\"\"\"SELECT SUM(valor) \n",
        "                       FROM vendas\"\"\")\n",
        "receita.show()"
      ],
      "metadata": {
        "colab": {
          "base_uri": "https://localhost:8080/"
        },
        "id": "IRY8uWbjD2_Q",
        "outputId": "57f1df8b-1d00-4993-ccb5-7abedf11c895"
      },
      "execution_count": null,
      "outputs": [
        {
          "output_type": "stream",
          "name": "stdout",
          "text": [
            "+--------------------+\n",
            "|          sum(valor)|\n",
            "+--------------------+\n",
            "|2.1584900165999958E8|\n",
            "+--------------------+\n",
            "\n"
          ]
        }
      ]
    },
    {
      "cell_type": "markdown",
      "metadata": {
        "id": "uVV0rIT8KzZ2"
      },
      "source": [
        "2) Quais são os 3 produtos mais comprados dos estados da região Sul e Sudeste, a quantidade de itens comprados, o valor total pago e a média de preço paga?"
      ]
    },
    {
      "cell_type": "code",
      "source": [
        "top_regiao3 = spark.sql(\"\"\"SELECT p.nome_produto, SUM(v.quantidade) qtd, ROUND(SUM(v.valor),2) vl_total, ROUND(AVG(v.valor/v.quantidade),2) vl_medio, u.estado \n",
        "                           FROM usuarios u \n",
        "                           INNER JOIN vendas v \n",
        "                           ON v.cod_usuario = u.cod_usuario\t\n",
        "                           INNER JOIN produtos p \n",
        "                           ON p.cod_produto = v.cod_produto \n",
        "                           WHERE u.estado = 'São Paulo' or u.estado = 'Minas Gerais' or u.estado = 'Rio de Janeiro' or u.estado = 'Espírito Santo' or u.estado = 'Paraná' or u.estado = 'Santa Catarina' or u.estado = 'Rio Grande do Sul' \n",
        "                           GROUP BY p.nome_produto, u.estado \n",
        "                           ORDER BY 2 DESC LIMIT 3\"\"\")\n",
        "top_regiao3.show()"
      ],
      "metadata": {
        "id": "22OosK1ooNto"
      },
      "execution_count": null,
      "outputs": []
    },
    {
      "cell_type": "markdown",
      "metadata": {
        "id": "0CaldadHLbgm"
      },
      "source": [
        "3) Para cada produto, quantos usuários fizeram pelo menos uma compra desse produto e qual é o valor mínimo e máximo pago por eles?"
      ]
    },
    {
      "cell_type": "code",
      "source": [
        "vendas_produtos = spark.sql(\"\"\"SELECT p.nome_produto produto, COUNT(DISTINCT(v.cod_usuario)) qtd_users, ROUND(MAX(v.valor/v.quantidade),2) vl_max, ROUND(MIN(v.valor/v.quantidade),2) vl_min \n",
        "                               FROM produtos p \n",
        "                               INNER JOIN vendas v \n",
        "                               ON p.cod_produto = v.cod_produto \n",
        "                               GROUP BY 1\"\"\")\n",
        "vendas_produtos.show()"
      ],
      "metadata": {
        "id": "r6YHEbo2TfSS"
      },
      "execution_count": null,
      "outputs": []
    },
    {
      "cell_type": "markdown",
      "metadata": {
        "id": "QUM8hfarLqy9"
      },
      "source": [
        "4) Aplique um desconto de 10% em todas as vendas dos usuários que fizeram pelo menos 3 compras de produtos na mesma categoria, a partir da 4ª compra realizada. Exiba apenas os usuários que terão o desconto aplicado, mantendo todas as compras, o valor original e o valor com o desconto aplicado."
      ]
    },
    {
      "cell_type": "code",
      "source": [
        "vendas.show(1)\n",
        "produtos.show(1)\n",
        "usuarios.show(1)"
      ],
      "metadata": {
        "colab": {
          "base_uri": "https://localhost:8080/"
        },
        "id": "0m2jERc_tEOT",
        "outputId": "4a3177b8-103d-4359-f502-2523e2841354"
      },
      "execution_count": null,
      "outputs": [
        {
          "output_type": "stream",
          "name": "stdout",
          "text": [
            "+-----------+-----------+-------------------+----------+------+\n",
            "|cod_usuario|cod_produto|        data_compra|quantidade| valor|\n",
            "+-----------+-----------+-------------------+----------+------+\n",
            "|        927|         10|2020-10-19 00:00:00|         4|2799.6|\n",
            "+-----------+-----------+-------------------+----------+------+\n",
            "only showing top 1 row\n",
            "\n",
            "+-----------+--------------------+-----------------+-------------+\n",
            "|cod_produto|        nome_produto|categoria_produto|valor_produto|\n",
            "+-----------+--------------------+-----------------+-------------+\n",
            "|          1|Notebook Asus Int...|       Tecnologia|       4590.9|\n",
            "+-----------+--------------------+-----------------+-------------+\n",
            "only showing top 1 row\n",
            "\n",
            "+-----------+-------------------+------------------+---------+------------+\n",
            "|cod_usuario|      data_cadastro|      faixa_etaria|   cidade|      estado|\n",
            "+-----------+-------------------+------------------+---------+------------+\n",
            "|         69|2020-07-24 00:00:00|Entre 16 a 21 anos|São Romão|Minas Gerais|\n",
            "+-----------+-------------------+------------------+---------+------------+\n",
            "only showing top 1 row\n",
            "\n"
          ]
        }
      ]
    },
    {
      "cell_type": "code",
      "source": [
        "desconto_vendas = spark.sql(\"\"\"SELECT v.cod_usuario, COUNT(v.cod_usuario) qtd_compras, ROUND(SUM(v.valor),2) vl_total,\n",
        "                               ROUND(SUM(v.valor * 0.1),2) vl_desconto,  ROUND(SUM(v.valor) - SUM(v.valor * 0.1),2) vl_liquido\n",
        "                               FROM vendas v\n",
        "                               INNER JOIN produtos p\n",
        "                               ON p.cod_produto = v.cod_produto\n",
        "                               GROUP BY v.cod_usuario\n",
        "                               HAVING COUNT(v.cod_usuario) >= 4 and COUNT(v.quantidade) >=3\n",
        "\n",
        "                              \n",
        "\"\"\")\n",
        "desconto_vendas.show(10)"
      ],
      "metadata": {
        "colab": {
          "base_uri": "https://localhost:8080/"
        },
        "id": "baZHjlCgh6dr",
        "outputId": "fe9e914e-1351-4ec2-d89b-60aea2a25d9e"
      },
      "execution_count": null,
      "outputs": [
        {
          "output_type": "stream",
          "name": "stdout",
          "text": [
            "+-----------+-----------+---------+-----------+----------+\n",
            "|cod_usuario|qtd_compras| vl_total|vl_desconto|vl_liquido|\n",
            "+-----------+-----------+---------+-----------+----------+\n",
            "|       2366|          4|  13642.9|    1364.29|  12278.61|\n",
            "|       1959|          8|187093.42|   18709.34| 168384.08|\n",
            "|        463|          7| 14536.84|    1453.68|  13083.16|\n",
            "|       2142|          5|155885.78|   15588.58|  140297.2|\n",
            "|       1088|         11|128345.71|   12834.57| 115511.14|\n",
            "|       2659|          7| 89150.46|    8915.05|  80235.41|\n",
            "|       2866|         10| 70794.48|    7079.45|  63715.03|\n",
            "|        471|          4| 66282.83|    6628.28|  59654.55|\n",
            "|       1591|          9| 41136.15|    4113.62|  37022.53|\n",
            "|        833|          7| 93297.52|    9329.75|  83967.77|\n",
            "+-----------+-----------+---------+-----------+----------+\n",
            "only showing top 10 rows\n",
            "\n"
          ]
        }
      ]
    },
    {
      "cell_type": "markdown",
      "metadata": {
        "id": "ndROlUqgMHxn"
      },
      "source": [
        "# FIM!"
      ]
    }
  ],
  "metadata": {
    "colab": {
      "provenance": []
    },
    "kernelspec": {
      "display_name": "Python 3",
      "name": "python3"
    },
    "language_info": {
      "name": "python"
    }
  },
  "nbformat": 4,
  "nbformat_minor": 0
}